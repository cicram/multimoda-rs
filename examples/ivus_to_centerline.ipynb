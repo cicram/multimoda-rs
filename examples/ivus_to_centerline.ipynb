{
 "cells": [
  {
   "cell_type": "markdown",
   "id": "d8ecfc1a",
   "metadata": {},
   "source": [
    "# **multimoda-rs**: Tutorial examples IVUS/OCT to centerline\n",
    "## Alining from files\n",
    "The first example will focus on solving the problem of aligning frames within a pullback of either IVUS or OCT images.\n",
    "We will start with gated IVUS images (systole/diastole) during two different states (e.g. rest/stress).\n",
    "The .csv files are expected to set up in the following style:\n",
    "```text\n",
    "--------------------------------------------------------------------\n",
    "|      185     |       5.32     |      2.37       |        0.0     |\n",
    "|      185     |       5.12     |      2.46       |        0.0     |\n",
    "|      ...     |       ...      |      ...        |        ...     |\n",
    "```\n",
    "where the first column is the frame index the point is from, the second to forth are x-, y- and z-coordinates. The naming conventions of the files are diastolic_contours.csv, diastolic_reference_points.csv, ... (see ./data). This is in alignment with the output of the [AIVUS-CAA software](https://https://github.com/AI-in-Cardiovascular-Medicine/AIVUS-CAA).\n",
    "\n",
    "The first goal is to align the frames within a pullback by translating their centroids to a line and rotating them towards each other minimizing Hausdorff distance of the contours and catheter contours created from the image center. The influence of the catheter (which represents the image center) on the rotation can be adjusted by the number of points passed to catheter. If no catheter should be created just pass n_points=0.\n",
    "\n",
    "In the same function states are aligned with each other (e.g. systole to diastole) and z-distance are averaged over the two states to have comparable frame positions. If heartrate is very different (e.g. rest to stress) a resampling is performed of the lower heartrate geometry."
   ]
  },
  {
   "cell_type": "markdown",
   "id": "5d230e5d",
   "metadata": {},
   "source": [
    "Load packages multimodars, and for linking the numpy package."
   ]
  },
  {
   "cell_type": "code",
   "execution_count": null,
   "id": "ce14d5c6",
   "metadata": {},
   "outputs": [],
   "source": [
    "import os\n",
    "from pathlib import Path\n",
    "import multimodars as mm\n",
    "import numpy as np\n",
    "\n",
    "# load the provided example data\n",
    "os.chdir(Path.cwd().parent / \"data\")\n",
    "\n",
    "# mode full and it's meaning\n",
    "rest, stress, dia, sys = mm.from_file(\n",
    "    mode=\"full\", \n",
    "    rest_input_path=\"ivus_rest\", \n",
    "    stress_input_path=\"ivus_stress\", \n",
    "    steps_best_rotation=300, \n",
    "    range_rotation_rad=1.57, \n",
    "    rest_output_path=\"output/rest\", \n",
    "    stress_output_path=\"output/stress\", \n",
    "    diastole_output_path=\"output/diastole\", \n",
    "    systole_output_path=\"output/systole\", \n",
    "    interpolation_steps=28, \n",
    "    image_center=(4.5, 4.5),\n",
    "    radius=0.5,\n",
    "    n_points=20,\n",
    ")"
   ]
  },
  {
   "cell_type": "code",
   "execution_count": null,
   "id": "e9d148c2",
   "metadata": {},
   "outputs": [],
   "source": [
    "print(rest)\n",
    "print(\"\\n\")\n",
    "print(rest.dia_geom)\n",
    "print(\"\\n\")\n",
    "print(rest.dia_geom.contours[0])"
   ]
  },
  {
   "cell_type": "markdown",
   "id": "480b66c5",
   "metadata": {},
   "source": [
    "The data is now neatly ordered in pairs (e.g. diastolic and systolic geometry). Every geometry has contours for lumen and walls and a created catheter. The reference point will be used to align the geometry to the centerline. All points corresponding to a contour are also save in a contour struct.\n",
    "\n",
    "The four pairs represent all 4 possible comparison in gated images, as for example in coronary artery anomalies (rest pulsatile lumen deformation, stress pulsatile lumen deformation, stress-induced diastolic lumen deformation and stress-induced systolic lumen deformation).\n",
    "\n",
    "For a simple pre- and post-stenting comparison do the following:"
   ]
  },
  {
   "cell_type": "code",
   "execution_count": null,
   "id": "705662d6",
   "metadata": {},
   "outputs": [],
   "source": [
    "stent_comparison = mm.from_file(\n",
    "    mode=\"doublepair\",\n",
    "    rest_input_path=\"ivus_prestent\",\n",
    "    stress_input_path=\"ivus_poststent\",\n",
    "    steps_best_rotation=300,\n",
    "    range_rotation_rad=1.57,\n",
    "    interpolation_steps=0\n",
    "    )"
   ]
  },
  {
   "cell_type": "markdown",
   "id": "c044f8c7",
   "metadata": {},
   "source": [
    "## Alignment from array\n",
    "While the alignment from file is one option, the more flexible option is to create Geometries directly from numpy array, and then perform the same operations with these Geometries."
   ]
  },
  {
   "cell_type": "code",
   "execution_count": null,
   "id": "a68dbec8",
   "metadata": {},
   "outputs": [],
   "source": [
    "# prepare data from files\n",
    "contours_pre = np.genfromtxt(\"ivus_prestent/diastolic_contours.csv\", delimiter='\\t', names=[\"id\", \"x\", \"y\", \"z\"])\n",
    "points = [mm.PyContourPoint(idx.astype(int), i, x, y, z, False) for i, (idx, x, y, z) in enumerate(contours_pre)]\n",
    "catheter_pre = mm.create_catheter_contours(points, image_center=(4.5,4.5))\n",
    "catheter_pre = np.vstack([mm.to_array(catheter) for catheter in catheter_pre])\n",
    "walls_pre = np.array([])\n",
    "ref_pre = np.genfromtxt(\"ivus_prestent/diastolic_reference_points.csv\", delimiter='\\t', dtype=np.float64)\n",
    "\n",
    "contours_post = np.genfromtxt(\"ivus_poststent/diastolic_contours.csv\", delimiter='\\t')\n",
    "points = [mm.PyContourPoint(idx.astype(int), i, x, y, z, False) for i, (idx, x, y, z) in enumerate(contours_post)]\n",
    "catheter_post = mm.create_catheter_contours(points, image_center=(4.5,4.5))\n",
    "catheter_post = np.vstack([mm.to_array(catheter) for catheter in catheter_post])\n",
    "walls_post = np.array([])\n",
    "ref_post = np.genfromtxt(\"ivus_poststent/diastolic_reference_points.csv\", delimiter='\\t', dtype=np.float64)\n",
    "\n",
    "geom_pre = mm.numpy_to_geometry_layers(contours_arr=contours_pre, catheter_arr=catheter_pre, walls_arr=walls_pre, reference_arr=ref_pre)\n",
    "geom_post = mm.numpy_to_geometry_layers(contours_arr=contours_post, catheter_arr=catheter_post, walls_arr=walls_post, reference_arr=ref_post)\n",
    "\n",
    "print(geom_pre)\n",
    "print(geom_post)\n",
    "# Actual function call\n",
    "mm.from_array(\n",
    "    mode=\"singlepair\", \n",
    "    geometry_dia=geom_pre, \n",
    "    geometry_sys=geom_post, \n",
    "    ouput_path=\"output/stent_result\",\n",
    "    steps_best_rotation=300,\n",
    "    range_rotation_rad=1.57,\n",
    "    interpolation_steps=0\n",
    ")\n"
   ]
  }
 ],
 "metadata": {
  "kernelspec": {
   "display_name": ".venv (3.12.3)",
   "language": "python",
   "name": "python3"
  },
  "language_info": {
   "codemirror_mode": {
    "name": "ipython",
    "version": 3
   },
   "file_extension": ".py",
   "mimetype": "text/x-python",
   "name": "python",
   "nbconvert_exporter": "python",
   "pygments_lexer": "ipython3",
   "version": "3.12.3"
  }
 },
 "nbformat": 4,
 "nbformat_minor": 5
}
